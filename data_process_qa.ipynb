{
 "cells": [
  {
   "cell_type": "code",
   "execution_count": 3,
   "metadata": {},
   "outputs": [],
   "source": [
    "from datasets import Dataset, DatasetDict\n",
    "import yaml\n",
    "import json\n",
    "import pandas as pd\n",
    "import numpy as np\n",
    "from sklearn.model_selection import train_test_split"
   ]
  },
  {
   "cell_type": "code",
   "execution_count": 4,
   "metadata": {},
   "outputs": [],
   "source": [
    "contexts = []\n",
    "# with open(\"domain_contexts_eng.jsonl\", 'r', encoding='utf-8') as file:\n",
    "with open(\"quest_contexts_eng.jsonl\", 'r', encoding='utf-8') as file:\n",
    "    for line in file:\n",
    "        contexts.append(json.loads(line))\n",
    "\n",
    "# score_df = pd.read_csv(\"../data/gpt_results/domain_scores_df.csv\")\n",
    "answer_df = pd.read_csv(\"eng_kdqol.csv\")"
   ]
  },
  {
   "cell_type": "code",
   "execution_count": 5,
   "metadata": {},
   "outputs": [],
   "source": [
    "new_contexts = [c['context'].split(\"\\n\\n\\n\")[0] for c in contexts]"
   ]
  },
  {
   "cell_type": "code",
   "execution_count": 6,
   "metadata": {},
   "outputs": [],
   "source": [
    "# query_to_retriever = [\n",
    "#     \"How high did the patient rate their Physical Component Summary score?\",\n",
    "#     \"How high did the patient rate their Mental Component Summary score?\",\n",
    "#     \"How high did the patient rate their Symptoms and Problems score?\",\n",
    "#     \"How high did the patient rate their Effect of Kidney Disease score?\",\n",
    "#     \"How high did the patient rate their Burden of Kidney Disease score?\"\n",
    "# ] # domain\n",
    "query_to_retriever = [\n",
    "    \"Tell me the score of how the patient described their health.\",\n",
    "    \"Tell me the score of whether the patient said they were unable to do their work as carefully as usual due to psychological problems in the past 4 weeks.\",\n",
    "    \"Tell me the score of whether the patient said they had problems with social activities with family, friends, and neighbors due to physical or psychological health problems in the past 4 weeks.\",\n",
    "    \"Tell me the score of whether the patient said they feel they get sick more easily than others.\",\n",
    "    \"Tell me the score of whether the patient said they feel frustrated when managing their kidney disease.\",\n",
    "    \"Tell me the score of whether the patient said they had trouble recognizing people or had a poor sense of time and place in the past 4 weeks.\",\n",
    "    \"Tell me the score of whether the patient said they were somewhat troubled by stress or worry due to kidney disease.\",\n",
    "    \"Tell me the score of whether the patient said they were able to sleep as much as needed.\",\n",
    "    \"Tell me the score of whether the patient thinks it will be difficult to continue working at their job due to their health.\",\n",
    "    \"Tell me the score of whether the patient thinks the doctors and nurses at the dialysis center help them cope well with their kidney disease.\",\n",
    "]"
   ]
  },
  {
   "cell_type": "code",
   "execution_count": 7,
   "metadata": {},
   "outputs": [],
   "source": [
    "qa_pairs = []\n",
    "query_num = [\"1\", \"5c\", \"6\", \"11a\", \"12c\", \"13f\", \"15f\", \"18b\", \"21\", \"24b\"]\n",
    "for i, (question, num) in enumerate(zip(query_to_retriever, query_num)):\n",
    "    # Extend the qa_pairs list with new entries for each context-answer pair\n",
    "    for j, context in enumerate(new_contexts):\n",
    "        answers = {}\n",
    "        answer = answer_df.loc[j, num]\n",
    "        quest_start = context.index(num)\n",
    "        answer_start = context[quest_start:].index(\"Answer\")+8\n",
    "        answers[\"text\"] = [str(answer)]\n",
    "        answers[\"answer_start\"] = [answer_start]\n",
    "        answers[\"answer_end\"] = [answer_start + len(str(answer))]\n",
    "        qa_pairs.append([j*10+i, num, context, question, answers])"
   ]
  },
  {
   "cell_type": "code",
   "execution_count": 8,
   "metadata": {},
   "outputs": [],
   "source": [
    "answer_list = [qa_pair[4]['text'][0] for qa_pair in qa_pairs]"
   ]
  },
  {
   "cell_type": "code",
   "execution_count": 9,
   "metadata": {},
   "outputs": [
    {
     "data": {
      "text/plain": [
       "{'A good bit of the time',\n",
       " 'A little of the time',\n",
       " 'All of the time',\n",
       " 'Definitely false',\n",
       " 'Definitely true',\n",
       " \"Don't know\",\n",
       " 'Excellent',\n",
       " 'Extremely',\n",
       " 'Extremely bothered',\n",
       " 'Fair',\n",
       " 'Good',\n",
       " 'Moderately',\n",
       " 'Moderately bothered',\n",
       " 'Most of the time',\n",
       " 'Mostly false',\n",
       " 'Mostly true',\n",
       " 'No',\n",
       " 'None of the time',\n",
       " 'Not at all',\n",
       " 'Not at all bothered',\n",
       " 'Poor',\n",
       " 'Quite a bit',\n",
       " 'Slightly',\n",
       " 'Some of the time',\n",
       " 'Somewhat bothered',\n",
       " 'Very good',\n",
       " 'Very much bothered',\n",
       " 'Yes',\n",
       " 'nan'}"
      ]
     },
     "execution_count": 9,
     "metadata": {},
     "output_type": "execute_result"
    }
   ],
   "source": [
    "set(answer_list)"
   ]
  },
  {
   "cell_type": "code",
   "execution_count": 10,
   "metadata": {},
   "outputs": [
    {
     "data": {
      "application/vnd.jupyter.widget-view+json": {
       "model_id": "d5813948658540f79818661b125c678d",
       "version_major": 2,
       "version_minor": 0
      },
      "text/plain": [
       "Saving the dataset (0/1 shards):   0%|          | 0/5085 [00:00<?, ? examples/s]"
      ]
     },
     "metadata": {},
     "output_type": "display_data"
    },
    {
     "data": {
      "application/vnd.jupyter.widget-view+json": {
       "model_id": "252818850c444f349d5b4fe033cc0c96",
       "version_major": 2,
       "version_minor": 0
      },
      "text/plain": [
       "Saving the dataset (0/1 shards):   0%|          | 0/565 [00:00<?, ? examples/s]"
      ]
     },
     "metadata": {},
     "output_type": "display_data"
    }
   ],
   "source": [
    "qa_df = pd.DataFrame(qa_pairs, columns=[\"id\", \"title\", \"context\", \"question\", \"answers\"])\n",
    "train_df, test_df = train_test_split(qa_df, test_size=0.1, stratify=qa_df[\"title\"])\n",
    "\n",
    "train_dataset = Dataset.from_dict(train_df)\n",
    "test_dataset = Dataset.from_dict(test_df)\n",
    "\n",
    "# Create a DatasetDict\n",
    "dataset_dict = DatasetDict({\n",
    "    \"train\": train_dataset,\n",
    "    \"test\": test_dataset\n",
    "})\n",
    "\n",
    "# Save the dataset_dict to disk\n",
    "dataset_dict.save_to_disk('./data/quest_qa_dataset')"
   ]
  },
  {
   "cell_type": "code",
   "execution_count": 113,
   "metadata": {},
   "outputs": [],
   "source": [
    "def add_token_positions(encodings, answers):\n",
    "    start_positions = []\n",
    "    end_positions = []\n",
    "    for i in range(len(answers)):\n",
    "        start_positions.append(encodings.char_to_token(i, answers[i]['answer_start']))\n",
    "        end_positions.append(encodings.char_to_token(i, answers[i]['answer_end'] - 1))\n",
    "        # if None, the answer passage has been truncated\n",
    "        if start_positions[-1] is None:\n",
    "            start_positions[-1] = tokenizer.model_max_length\n",
    "        if end_positions[-1] is None:\n",
    "            end_positions[-1] = tokenizer.model_max_length\n",
    "    encodings.update({'start_positions': start_positions, 'end_positions': end_positions})\n",
    "\n",
    "add_token_positions(train_encodings, train_answers)"
   ]
  },
  {
   "cell_type": "code",
   "execution_count": 54,
   "metadata": {},
   "outputs": [],
   "source": [
    "from datasets import load_from_disk, load_dataset\n",
    "kdqol_dataset = load_from_disk('./data/quest_qa_dataset')\n",
    "squad_dataset = load_dataset('squad_v2')"
   ]
  },
  {
   "cell_type": "code",
   "execution_count": 55,
   "metadata": {},
   "outputs": [
    {
     "name": "stdout",
     "output_type": "stream",
     "text": [
      "Who was the Norse leader?\n"
     ]
    }
   ],
   "source": [
    "print(squad_dataset['validation']['question'][3])"
   ]
  },
  {
   "cell_type": "code",
   "execution_count": 20,
   "metadata": {},
   "outputs": [
    {
     "name": "stdout",
     "output_type": "stream",
     "text": [
      "Super Bowl 50 was an American football game to determine the champion of the National Football League (NFL) for the 2015 season. The American Football Conference (AFC) champion Denver Broncos defeated the National Football Conference (NFC) champion Carolina Panthers 24–10 to earn their third Super Bowl title. The game was played on February 7, 2016, at Levi's Stadium in the San Francisco Bay Area at Santa Clara, California. As this was the 50th Super Bowl, the league emphasized the \"golden anniversary\" with various gold-themed initiatives, as well as temporarily suspending the tradition of naming each Super Bowl game with Roman numerals (under which the game would have been known as \"Super Bowl L\"), so that the logo could prominently feature the Arabic numerals 50.\n"
     ]
    }
   ],
   "source": [
    "print(squad_dataset['validation']['context'][3])"
   ]
  },
  {
   "cell_type": "code",
   "execution_count": 22,
   "metadata": {},
   "outputs": [
    {
     "name": "stderr",
     "output_type": "stream",
     "text": [
      "/home/changuk/.conda/envs/belt/lib/python3.10/site-packages/transformers/tokenization_utils_base.py:1601: FutureWarning: `clean_up_tokenization_spaces` was not set. It will be set to `True` by default. This behavior will be depracted in transformers v4.45, and will be then set to `False` by default. For more details check this issue: https://github.com/huggingface/transformers/issues/31884\n",
      "  warnings.warn(\n"
     ]
    }
   ],
   "source": [
    "from transformers import AutoTokenizer, AutoModelForQuestionAnswering, TrainingArguments, Trainer\n",
    "model_checkpoint = \"distilbert-base-uncased\"\n",
    "tokenizer = AutoTokenizer.from_pretrained(model_checkpoint)\n",
    "tokens = tokenizer(squad_dataset['validation']['context'][3])"
   ]
  },
  {
   "cell_type": "code",
   "execution_count": 27,
   "metadata": {},
   "outputs": [
    {
     "data": {
      "text/plain": [
       "177"
      ]
     },
     "execution_count": 27,
     "metadata": {},
     "output_type": "execute_result"
    }
   ],
   "source": [
    "squad_dataset['validation']['context'][3].index(\"Denver Broncos\")"
   ]
  },
  {
   "cell_type": "code",
   "execution_count": 26,
   "metadata": {},
   "outputs": [
    {
     "data": {
      "text/plain": [
       "775"
      ]
     },
     "execution_count": 26,
     "metadata": {},
     "output_type": "execute_result"
    }
   ],
   "source": [
    "len(squad_dataset['validation']['context'][3])"
   ]
  },
  {
   "cell_type": "code",
   "execution_count": 25,
   "metadata": {},
   "outputs": [
    {
     "data": {
      "text/plain": [
       "159"
      ]
     },
     "execution_count": 25,
     "metadata": {},
     "output_type": "execute_result"
    }
   ],
   "source": [
    "len(tokens['input_ids'])"
   ]
  },
  {
   "cell_type": "code",
   "execution_count": null,
   "metadata": {},
   "outputs": [],
   "source": [
    "import numpy as np\n",
    "np.mean([len(squad_dataset['validation']['answers'][i]['text']) for i in range(len(squad_dataset['validation']['answers']))])"
   ]
  },
  {
   "cell_type": "code",
   "execution_count": 56,
   "metadata": {},
   "outputs": [
    {
     "data": {
      "text/plain": [
       "1"
      ]
     },
     "execution_count": 56,
     "metadata": {},
     "output_type": "execute_result"
    }
   ],
   "source": [
    "len(squad_dataset['train']['answers'][3]['text'])"
   ]
  },
  {
   "cell_type": "code",
   "execution_count": 59,
   "metadata": {},
   "outputs": [
    {
     "name": "stdout",
     "output_type": "stream",
     "text": [
      "{'text': ['William the Conqueror', 'William the Conqueror', 'William the Conqueror'], 'answer_start': [1022, 1022, 1022]}\n"
     ]
    }
   ],
   "source": [
    "print(squad_dataset['validation']['answers'][9])"
   ]
  }
 ],
 "metadata": {
  "kernelspec": {
   "display_name": "Python 3",
   "language": "python",
   "name": "python3"
  },
  "language_info": {
   "codemirror_mode": {
    "name": "ipython",
    "version": 3
   },
   "file_extension": ".py",
   "mimetype": "text/x-python",
   "name": "python",
   "nbconvert_exporter": "python",
   "pygments_lexer": "ipython3",
   "version": "3.11.9"
  }
 },
 "nbformat": 4,
 "nbformat_minor": 2
}
